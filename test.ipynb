{
 "cells": [
  {
   "cell_type": "code",
   "execution_count": 1,
   "metadata": {},
   "outputs": [
    {
     "name": "stdout",
     "output_type": "stream",
     "text": [
      "list index out of range\n",
      "list index out of range\n"
     ]
    }
   ],
   "source": [
    "import subprocess\n",
    "from connection import TCP_Connection, UDP_Connection\n",
    "\n",
    "def run_netstat(proto: str = None):\n",
    "    command = f\"netstat -nlv {'-p' + proto if proto else ''}\"\n",
    "\n",
    "    connection_classes = {'tcp': TCP_Connection, 'udp': UDP_Connection}\n",
    "    \n",
    "    if proto in connection_classes:\n",
    "        connection_class = connection_classes[proto]\n",
    "        connections = [\n",
    "            connection_class(*connection.split())\n",
    "            for connection in\n",
    "            subprocess.run(command, shell=True, capture_output=True, encoding='utf8', text=True).stdout.splitlines()\n",
    "            if connection.startswith(proto)\n",
    "        ]\n",
    "        return connections\n",
    "    else:\n",
    "        return []\n",
    "\n",
    "tcp_connections = run_netstat('tcp')\n",
    "udp_connections = run_netstat('udp')\n"
   ]
  },
  {
   "cell_type": "code",
   "execution_count": 7,
   "metadata": {},
   "outputs": [
    {
     "name": "stdout",
     "output_type": "stream",
     "text": [
      "TCP_Connection(proto='tcp4', recvQ='0', sendQ='437', localSocket='192.168.1.42.49808', foreignSocket='20.189.173.8.443', state='ESTABLISHED', rhiwat='131277', shiwat='131376', pid='1982', epid='0', state_str='00102', options='00000100', gencnt='000000000001157c', flags='00000081', flags1='00000900', usscnt='1', rtncnt='0', fltrs='000001', command_line='/Applications/Visual Studio Code.app/Contents/Frameworks/Code Helper (Plugin).app/Contents/MacOS/Code Helper (Plugin) --type=utility --utility-sub-type=node.mojom.NodeService --lang=en-GB --service-sandbox-type=none --dns-result-order=ipv4first --inspect-port=0 --user-data-dir=/Users/v/Library/Application Support/Code --standard-schemes=vscode-webview,vscode-file --enable-sandbox --secure-schemes=vscode-webview,vscode-file --bypasscsp-schemes --cors-schemes=vscode-webview,vscode-file --fetch-schemes=vscode-webview,vscode-file --service-worker-schemes=vscode-webview --streaming-schemes --shared-files --field-trial-handle=1718379636,r,862326828092134399,3118372707849768449,262144 --disable-features=CalculateNativeWinOcclusion,SpareRendererForSitePerProcess')\n",
      "TCP_Connection(proto='tcp4', recvQ='0', sendQ='437', localSocket='192.168.1.42.49807', foreignSocket='20.189.173.8.443', state='ESTABLISHED', rhiwat='131277', shiwat='131376', pid='1982', epid='0', state_str='00102', options='00000100', gencnt='000000000001157b', flags='00000081', flags1='00000900', usscnt='1', rtncnt='0', fltrs='000001', command_line='/Applications/Visual Studio Code.app/Contents/Frameworks/Code Helper (Plugin).app/Contents/MacOS/Code Helper (Plugin) --type=utility --utility-sub-type=node.mojom.NodeService --lang=en-GB --service-sandbox-type=none --dns-result-order=ipv4first --inspect-port=0 --user-data-dir=/Users/v/Library/Application Support/Code --standard-schemes=vscode-webview,vscode-file --enable-sandbox --secure-schemes=vscode-webview,vscode-file --bypasscsp-schemes --cors-schemes=vscode-webview,vscode-file --fetch-schemes=vscode-webview,vscode-file --service-worker-schemes=vscode-webview --streaming-schemes --shared-files --field-trial-handle=1718379636,r,862326828092134399,3118372707849768449,262144 --disable-features=CalculateNativeWinOcclusion,SpareRendererForSitePerProcess')\n",
      "TCP_Connection(proto='tcp4', recvQ='0', sendQ='0', localSocket='192.168.1.42.49773', foreignSocket='51.11.192.48.443', state='ESTABLISHED', rhiwat='131072', shiwat='131376', pid='1962', epid='0', state_str='00102', options='00000008', gencnt='0000000000010715', flags='00000081', flags1='00000900', usscnt='1', rtncnt='0', fltrs='000001', command_line='/Applications/Visual Studio Code.app/Contents/Frameworks/Code Helper.app/Contents/MacOS/Code Helper --type=utility --utility-sub-type=network.mojom.NetworkService --lang=en-GB --service-sandbox-type=network --user-data-dir=/Users/v/Library/Application Support/Code --standard-schemes=vscode-webview,vscode-file --enable-sandbox --secure-schemes=vscode-webview,vscode-file --bypasscsp-schemes --cors-schemes=vscode-webview,vscode-file --fetch-schemes=vscode-webview,vscode-file --service-worker-schemes=vscode-webview --streaming-schemes --shared-files --field-trial-handle=1718379636,r,862326828092134399,3118372707849768449,262144 --disable-features=CalculateNativeWinOcclusion,SpareRendererForSitePerProcess --seatbelt-client=39')\n",
      "TCP_Connection(proto='tcp4', recvQ='0', sendQ='0', localSocket='192.168.1.42.49772', foreignSocket='81.26.145.77.443', state='ESTABLISHED', rhiwat='131072', shiwat='131072', pid='1147', epid='0', state_str='00102', options='00000008', gencnt='000000000001056a', flags='00000081', flags1='00000900', usscnt='1', rtncnt='0', fltrs='000001', command_line='/Applications/Mattermost.app/Contents/Frameworks/Mattermost Helper.app/Contents/MacOS/Mattermost Helper --type=utility --utility-sub-type=network.mojom.NetworkService --lang=en-GB --service-sandbox-type=network --user-data-dir=/Users/v/Library/Application Support/Mattermost --enable-sandbox --shared-files --field-trial-handle=1718379636,r,15105130124356810067,6108525234635197160,262144 --disable-features=SpareRendererForSitePerProcess --seatbelt-client=45')\n",
      "TCP_Connection(proto='tcp4', recvQ='0', sendQ='0', localSocket='192.168.1.42.49763', foreignSocket='140.82.113.26.443', state='ESTABLISHED', rhiwat='131072', shiwat='132432', pid='1662', epid='0', state_str='00102', options='00000008', gencnt='0000000000010109', flags='00000081', flags1='00000900', usscnt='1', rtncnt='0', fltrs='000001', command_line='/Applications/Microsoft Edge.app/Contents/Frameworks/Microsoft Edge Framework.framework/Versions/120.0.2210.77/Helpers/Microsoft Edge Helper.app/Contents/MacOS/Microsoft Edge Helper --type=utility --utility-sub-type=network.mojom.NetworkService --lang=en-GB --service-sandbox-type=network --shared-files --field-trial-handle=1718379636,r,7075485953483537445,666242758727178026,262144 --disable-features=AllowAllSitesToInitiateMirroring,CastAllowAllIPs --variations-seed-version --seatbelt-client=31')\n",
      "TCP_Connection(proto='tcp4', recvQ='0', sendQ='0', localSocket='192.168.1.42.24800', foreignSocket='192.168.1.34.60068', state='ESTABLISHED', rhiwat='131072', shiwat='131072', pid='3632', epid='0', state_str='00102', options='00000004', gencnt='000000000000b107', flags='00000080', flags1='01000900', usscnt='1', rtncnt='0', fltrs='000001', command_line='/Applications/Barrier.app/Contents/MacOS/barriers -f --no-tray --debug INFO --name 41r.local --disable-crypto --disable-client-cert-checking -c /Users/v/data/config.d/barrier.server.office.conf --address [192.168.1.42]:24800')\n",
      "TCP_Connection(proto='tcp6', recvQ='0', sendQ='0', localSocket='fe80::1278:72da:58a4:f8d4%utun4.1025', foreignSocket='fe80::6840:6883:542b:ecbd%utun4.1026', state='ESTABLISHED', rhiwat='131072', shiwat='131072', pid='490', epid='0', state_str='00102', options='00000204', gencnt='000000000000a1e6', flags='00000001', flags1='00000800', usscnt='1', rtncnt='0', fltrs='000001', command_line='/System/Library/PrivateFrameworks/IDS.framework/identityservicesd.app/Contents/MacOS/identityservicesd')\n",
      "TCP_Connection(proto='tcp4', recvQ='0', sendQ='0', localSocket='192.168.1.42.49540', foreignSocket='20.54.37.73.443', state='ESTABLISHED', rhiwat='262144', shiwat='132480', pid='1662', epid='0', state_str='00102', options='00000008', gencnt='000000000000a1c2', flags='00000081', flags1='00000900', usscnt='1', rtncnt='0', fltrs='000001', command_line='/Applications/Microsoft Edge.app/Contents/Frameworks/Microsoft Edge Framework.framework/Versions/120.0.2210.77/Helpers/Microsoft Edge Helper.app/Contents/MacOS/Microsoft Edge Helper --type=utility --utility-sub-type=network.mojom.NetworkService --lang=en-GB --service-sandbox-type=network --shared-files --field-trial-handle=1718379636,r,7075485953483537445,666242758727178026,262144 --disable-features=AllowAllSitesToInitiateMirroring,CastAllowAllIPs --variations-seed-version --seatbelt-client=31')\n",
      "TCP_Connection(proto='tcp6', recvQ='0', sendQ='0', localSocket='fe80::1278:72da:58a4:f8d4%utun4.1024', foreignSocket='fe80::6840:6883:542b:ecbd%utun4.1024', state='ESTABLISHED', rhiwat='131089', shiwat='132108', pid='490', epid='0', state_str='00102', options='00000204', gencnt='0000000000009e49', flags='00100001', flags1='00080800', usscnt='1', rtncnt='0', fltrs='000001', command_line='/System/Library/PrivateFrameworks/IDS.framework/identityservicesd.app/Contents/MacOS/identityservicesd')\n",
      "TCP_Connection(proto='tcp4', recvQ='0', sendQ='0', localSocket='192.168.1.42.49166', foreignSocket='81.26.145.77.443', state='ESTABLISHED', rhiwat='131072', shiwat='131768', pid='1147', epid='0', state_str='00102', options='00000008', gencnt='0000000000002538', flags='00000081', flags1='00000900', usscnt='1', rtncnt='0', fltrs='000001', command_line='/Applications/Mattermost.app/Contents/Frameworks/Mattermost Helper.app/Contents/MacOS/Mattermost Helper --type=utility --utility-sub-type=network.mojom.NetworkService --lang=en-GB --service-sandbox-type=network --user-data-dir=/Users/v/Library/Application Support/Mattermost --enable-sandbox --shared-files --field-trial-handle=1718379636,r,15105130124356810067,6108525234635197160,262144 --disable-features=SpareRendererForSitePerProcess --seatbelt-client=45')\n",
      "TCP_Connection(proto='tcp4', recvQ='0', sendQ='0', localSocket='192.168.1.42.49165', foreignSocket='81.26.145.77.443', state='ESTABLISHED', rhiwat='131072', shiwat='131768', pid='1147', epid='0', state_str='00102', options='00000008', gencnt='0000000000002535', flags='00000081', flags1='00000900', usscnt='1', rtncnt='0', fltrs='000001', command_line='/Applications/Mattermost.app/Contents/Frameworks/Mattermost Helper.app/Contents/MacOS/Mattermost Helper --type=utility --utility-sub-type=network.mojom.NetworkService --lang=en-GB --service-sandbox-type=network --user-data-dir=/Users/v/Library/Application Support/Mattermost --enable-sandbox --shared-files --field-trial-handle=1718379636,r,15105130124356810067,6108525234635197160,262144 --disable-features=SpareRendererForSitePerProcess --seatbelt-client=45')\n",
      "TCP_Connection(proto='tcp4', recvQ='0', sendQ='0', localSocket='192.168.1.42.49164', foreignSocket='81.26.145.77.443', state='ESTABLISHED', rhiwat='131072', shiwat='131768', pid='1147', epid='0', state_str='00102', options='00000008', gencnt='0000000000002534', flags='00000081', flags1='00000900', usscnt='1', rtncnt='0', fltrs='000001', command_line='/Applications/Mattermost.app/Contents/Frameworks/Mattermost Helper.app/Contents/MacOS/Mattermost Helper --type=utility --utility-sub-type=network.mojom.NetworkService --lang=en-GB --service-sandbox-type=network --user-data-dir=/Users/v/Library/Application Support/Mattermost --enable-sandbox --shared-files --field-trial-handle=1718379636,r,15105130124356810067,6108525234635197160,262144 --disable-features=SpareRendererForSitePerProcess --seatbelt-client=45')\n",
      "TCP_Connection(proto='tcp4', recvQ='0', sendQ='0', localSocket='192.168.1.42.54275', foreignSocket='17.57.146.133.443', state='ESTABLISHED', rhiwat='131072', shiwat='131768', pid='122', epid='122', state_str='00000', options='00000000', gencnt='0000000000000000', flags='00000000', flags1='00000000', usscnt='0', rtncnt='0', fltrs='000000', command_line='/System/Library/PrivateFrameworks/ApplePushService.framework/apsd')\n"
     ]
    }
   ],
   "source": [
    "for conn in tcp_connections:\n",
    "    if not conn.localSocket.startswith('127.0.0.1'):\n",
    "        print(conn)"
   ]
  },
  {
   "cell_type": "code",
   "execution_count": 8,
   "metadata": {},
   "outputs": [
    {
     "name": "stdout",
     "output_type": "stream",
     "text": [
      "UDP_Connection(proto='udp4', recvQ='0', sendQ='0', localSocket='*.*', foreignSocket='*.*', rhiwat='786896', shiwat='9216', pid='2880', epid='0', state_str='00080', options='00000000', gencnt='0000000000005f7f', flags='00000000', flags1='00002800', usscnt='1', rtncnt='0', fltrs='000001', command_line='/usr/libexec/PerfPowerServices')\n",
      "UDP_Connection(proto='udp4', recvQ='0', sendQ='0', localSocket='*.*', foreignSocket='*.*', rhiwat='786896', shiwat='9216', pid='2880', epid='0', state_str='00080', options='00000000', gencnt='0000000000005f7d', flags='00000000', flags1='00002800', usscnt='1', rtncnt='0', fltrs='000001', command_line='/usr/libexec/PerfPowerServices')\n",
      "UDP_Connection(proto='udp4', recvQ='0', sendQ='0', localSocket='*.*', foreignSocket='*.*', rhiwat='786896', shiwat='9216', pid='2880', epid='0', state_str='00080', options='00000000', gencnt='0000000000005f7c', flags='00000000', flags1='00002800', usscnt='1', rtncnt='0', fltrs='000001', command_line='/usr/libexec/PerfPowerServices')\n",
      "UDP_Connection(proto='udp4', recvQ='0', sendQ='0', localSocket='*.*', foreignSocket='*.*', rhiwat='786896', shiwat='9216', pid='2880', epid='0', state_str='00080', options='00000000', gencnt='0000000000005f79', flags='00000000', flags1='00002800', usscnt='1', rtncnt='0', fltrs='000001', command_line='/usr/libexec/PerfPowerServices')\n",
      "UDP_Connection(proto='udp4', recvQ='0', sendQ='0', localSocket='*.*', foreignSocket='*.*', rhiwat='786896', shiwat='9216', pid='153', epid='0', state_str='00000', options='00000000', gencnt='0000000000005ed2', flags='00000000', flags1='00000800', usscnt='1', rtncnt='0', fltrs='000001', command_line='/System/Library/CoreServices/loginwindow.app/Contents/MacOS/loginwindow console')\n",
      "UDP_Connection(proto='udp4', recvQ='0', sendQ='0', localSocket='*.*', foreignSocket='*.*', rhiwat='786896', shiwat='9216', pid='1648', epid='0', state_str='00000', options='00000000', gencnt='00000000000031cc', flags='00000000', flags1='00002800', usscnt='1', rtncnt='0', fltrs='000001', command_line='/Applications/Microsoft Edge.app/Contents/MacOS/Microsoft Edge')\n",
      "UDP_Connection(proto='udp6', recvQ='0', sendQ='0', localSocket='*.65117', foreignSocket='*.*', rhiwat='786896', shiwat='9216', pid='1029', epid='0', state_str='00100', options='00000020', gencnt='00000000000021f1', flags='00000000', flags1='00000800', usscnt='1', rtncnt='0', fltrs='000001', command_line='/Applications/WireGuard.app/Contents/PlugIns/WireGuardNetworkExtension.appex/Contents/MacOS/WireGuardNetworkExtension -AppleLanguages (\"en-RU\", \"ru-RU\", \"el-RU\")')\n",
      "UDP_Connection(proto='udp4', recvQ='0', sendQ='0', localSocket='*.65117', foreignSocket='*.*', rhiwat='786896', shiwat='9216', pid='1029', epid='0', state_str='00100', options='00000020', gencnt='00000000000021f0', flags='00000000', flags1='00000800', usscnt='1', rtncnt='0', fltrs='000003', command_line='/Applications/WireGuard.app/Contents/PlugIns/WireGuardNetworkExtension.appex/Contents/MacOS/WireGuardNetworkExtension -AppleLanguages (\"en-RU\", \"ru-RU\", \"el-RU\")')\n",
      "UDP_Connection(proto='udp4', recvQ='0', sendQ='0', localSocket='*.*', foreignSocket='*.*', rhiwat='786896', shiwat='9216', pid='1028', epid='0', state_str='00080', options='00000000', gencnt='00000000000020b2', flags='00000000', flags1='00000800', usscnt='1', rtncnt='0', fltrs='000001', command_line='/usr/libexec/nesessionmanager')\n",
      "UDP_Connection(proto='udp4', recvQ='0', sendQ='0', localSocket='*.*', foreignSocket='*.*', rhiwat='786896', shiwat='9216', pid='229', epid='0', state_str='00000', options='00000000', gencnt='0000000000001ed0', flags='00000000', flags1='00002800', usscnt='1', rtncnt='0', fltrs='000001', command_line='/usr/libexec/symptomsd')\n",
      "UDP_Connection(proto='udp4', recvQ='0', sendQ='0', localSocket='*.*', foreignSocket='*.*', rhiwat='786896', shiwat='9216', pid='1018', epid='0', state_str='00080', options='00000000', gencnt='0000000000001caf', flags='00000000', flags1='00000800', usscnt='1', rtncnt='0', fltrs='000001', command_line='/usr/libexec/wifivelocityd')\n",
      "UDP_Connection(proto='udp4', recvQ='0', sendQ='0', localSocket='*.*', foreignSocket='*.*', rhiwat='786896', shiwat='9216', pid='446', epid='0', state_str='00000', options='00000000', gencnt='0000000000001106', flags='00000000', flags1='00000800', usscnt='1', rtncnt='0', fltrs='000001', command_line='/usr/libexec/rapportd')\n",
      "UDP_Connection(proto='udp4', recvQ='0', sendQ='0', localSocket='*.*', foreignSocket='*.*', rhiwat='786896', shiwat='9216', pid='446', epid='0', state_str='00000', options='00000000', gencnt='0000000000000f0a', flags='00000000', flags1='00000800', usscnt='1', rtncnt='0', fltrs='000001', command_line='/usr/libexec/rapportd')\n",
      "UDP_Connection(proto='udp4', recvQ='0', sendQ='0', localSocket='*.*', foreignSocket='*.*', rhiwat='786896', shiwat='9216', pid='517', epid='0', state_str='00000', options='00000000', gencnt='0000000000000c49', flags='00000000', flags1='00000800', usscnt='1', rtncnt='0', fltrs='000001', command_line='/usr/libexec/sharingd')\n",
      "UDP_Connection(proto='udp4', recvQ='0', sendQ='0', localSocket='*.*', foreignSocket='*.*', rhiwat='786896', shiwat='9216', pid='517', epid='0', state_str='00000', options='00000000', gencnt='0000000000000c44', flags='00000000', flags1='00000800', usscnt='1', rtncnt='0', fltrs='000001', command_line='/usr/libexec/sharingd')\n",
      "UDP_Connection(proto='udp4', recvQ='0', sendQ='0', localSocket='*.*', foreignSocket='*.*', rhiwat='786896', shiwat='9216', pid='143', epid='0', state_str='00080', options='00000000', gencnt='0000000000000c42', flags='00000000', flags1='00000800', usscnt='1', rtncnt='0', fltrs='000001', command_line='/usr/sbin/bluetoothd')\n",
      "UDP_Connection(proto='udp4', recvQ='0', sendQ='0', localSocket='*.*', foreignSocket='*.*', rhiwat='786896', shiwat='9216', pid='143', epid='0', state_str='00080', options='00000000', gencnt='0000000000000c40', flags='00000000', flags1='00000800', usscnt='1', rtncnt='0', fltrs='000001', command_line='/usr/sbin/bluetoothd')\n",
      "UDP_Connection(proto='udp4', recvQ='0', sendQ='0', localSocket='*.*', foreignSocket='*.*', rhiwat='786896', shiwat='9216', pid='446', epid='0', state_str='00000', options='00000000', gencnt='0000000000000be6', flags='00000000', flags1='00000800', usscnt='1', rtncnt='0', fltrs='000001', command_line='/usr/libexec/rapportd')\n",
      "UDP_Connection(proto='udp4', recvQ='0', sendQ='0', localSocket='*.*', foreignSocket='*.*', rhiwat='786896', shiwat='9216', pid='446', epid='0', state_str='00000', options='00000000', gencnt='0000000000000be4', flags='00000000', flags1='00000800', usscnt='1', rtncnt='0', fltrs='000001', command_line='/usr/libexec/rapportd')\n",
      "UDP_Connection(proto='udp4', recvQ='0', sendQ='0', localSocket='*.*', foreignSocket='*.*', rhiwat='786896', shiwat='9216', pid='143', epid='0', state_str='00080', options='00000000', gencnt='0000000000000be2', flags='00000000', flags1='00000800', usscnt='1', rtncnt='0', fltrs='000001', command_line='/usr/sbin/bluetoothd')\n",
      "UDP_Connection(proto='udp4', recvQ='0', sendQ='0', localSocket='*.*', foreignSocket='*.*', rhiwat='786896', shiwat='9216', pid='517', epid='0', state_str='00000', options='00000000', gencnt='0000000000000bdf', flags='00000000', flags1='00000800', usscnt='1', rtncnt='0', fltrs='000001', command_line='/usr/libexec/sharingd')\n",
      "UDP_Connection(proto='udp4', recvQ='0', sendQ='0', localSocket='*.*', foreignSocket='*.*', rhiwat='786896', shiwat='9216', pid='517', epid='0', state_str='00000', options='00000000', gencnt='0000000000000bc2', flags='00000000', flags1='00000800', usscnt='1', rtncnt='0', fltrs='000001', command_line='/usr/libexec/sharingd')\n",
      "UDP_Connection(proto='udp4', recvQ='0', sendQ='0', localSocket='*.*', foreignSocket='*.*', rhiwat='786896', shiwat='9216', pid='517', epid='0', state_str='00000', options='00000000', gencnt='0000000000000bc1', flags='00000000', flags1='00000800', usscnt='1', rtncnt='0', fltrs='000001', command_line='/usr/libexec/sharingd')\n",
      "UDP_Connection(proto='udp4', recvQ='0', sendQ='0', localSocket='*.*', foreignSocket='*.*', rhiwat='786896', shiwat='9216', pid='517', epid='0', state_str='00000', options='00000000', gencnt='0000000000000bbd', flags='00000000', flags1='00000800', usscnt='1', rtncnt='0', fltrs='000001', command_line='/usr/libexec/sharingd')\n",
      "UDP_Connection(proto='udp4', recvQ='0', sendQ='0', localSocket='*.*', foreignSocket='*.*', rhiwat='786896', shiwat='9216', pid='517', epid='0', state_str='00000', options='00000000', gencnt='0000000000000ba7', flags='00000000', flags1='00000800', usscnt='1', rtncnt='0', fltrs='000001', command_line='/usr/libexec/sharingd')\n",
      "UDP_Connection(proto='udp4', recvQ='0', sendQ='0', localSocket='*.*', foreignSocket='*.*', rhiwat='786896', shiwat='9216', pid='512', epid='0', state_str='00080', options='00000000', gencnt='0000000000000b83', flags='00000000', flags1='00000800', usscnt='1', rtncnt='0', fltrs='000001', command_line='/usr/sbin/WirelessRadioManagerd')\n",
      "UDP_Connection(proto='udp4', recvQ='0', sendQ='0', localSocket='*.*', foreignSocket='*.*', rhiwat='786896', shiwat='9216', pid='512', epid='0', state_str='00080', options='00000000', gencnt='0000000000000b7d', flags='00000000', flags1='00000800', usscnt='1', rtncnt='0', fltrs='000001', command_line='/usr/sbin/WirelessRadioManagerd')\n",
      "UDP_Connection(proto='udp4', recvQ='0', sendQ='0', localSocket='*.*', foreignSocket='*.*', rhiwat='786896', shiwat='9216', pid='434', epid='0', state_str='00000', options='00000000', gencnt='000000000000098d', flags='00000000', flags1='00000800', usscnt='1', rtncnt='0', fltrs='000001', command_line='/System/Library/CoreServices/ControlCenter.app/Contents/MacOS/ControlCenter')\n",
      "UDP_Connection(proto='udp4', recvQ='0', sendQ='0', localSocket='*.*', foreignSocket='*.*', rhiwat='786896', shiwat='9216', pid='514', epid='0', state_str='00000', options='00000000', gencnt='000000000000096b', flags='00000000', flags1='00000800', usscnt='1', rtncnt='0', fltrs='000001', command_line='/System/Library/CoreServices/WiFiAgent.app/Contents/MacOS/WiFiAgent')\n",
      "UDP_Connection(proto='udp4', recvQ='0', sendQ='0', localSocket='*.*', foreignSocket='*.*', rhiwat='786896', shiwat='9216', pid='490', epid='0', state_str='00000', options='00000000', gencnt='00000000000008dd', flags='00000000', flags1='00000800', usscnt='1', rtncnt='0', fltrs='000001', command_line='/System/Library/PrivateFrameworks/IDS.framework/identityservicesd.app/Contents/MacOS/identityservicesd')\n",
      "UDP_Connection(proto='udp4', recvQ='0', sendQ='0', localSocket='*.*', foreignSocket='*.*', rhiwat='786896', shiwat='9216', pid='490', epid='0', state_str='00000', options='00000000', gencnt='00000000000008ac', flags='00000000', flags1='00000800', usscnt='1', rtncnt='0', fltrs='000001', command_line='/System/Library/PrivateFrameworks/IDS.framework/identityservicesd.app/Contents/MacOS/identityservicesd')\n",
      "UDP_Connection(proto='udp4', recvQ='0', sendQ='0', localSocket='*.*', foreignSocket='*.*', rhiwat='786896', shiwat='9216', pid='512', epid='0', state_str='00080', options='00000000', gencnt='00000000000008a9', flags='00000000', flags1='00000800', usscnt='1', rtncnt='0', fltrs='000001', command_line='/usr/sbin/WirelessRadioManagerd')\n",
      "UDP_Connection(proto='udp4', recvQ='0', sendQ='0', localSocket='*.*', foreignSocket='*.*', rhiwat='786896', shiwat='9216', pid='91', epid='0', state_str='00080', options='00000000', gencnt='00000000000005c3', flags='00000000', flags1='00002800', usscnt='1', rtncnt='0', fltrs='000001', command_line='/usr/sbin/systemstats --daemon')\n",
      "UDP_Connection(proto='udp4', recvQ='0', sendQ='0', localSocket='*.*', foreignSocket='*.*', rhiwat='786896', shiwat='9216', pid='201', epid='0', state_str='00080', options='00000000', gencnt='00000000000004c0', flags='00000000', flags1='00000800', usscnt='1', rtncnt='0', fltrs='000001', command_line='/usr/libexec/airportd')\n",
      "UDP_Connection(proto='udp4', recvQ='0', sendQ='0', localSocket='*.*', foreignSocket='*.*', rhiwat='786896', shiwat='9216', pid='201', epid='0', state_str='00080', options='00000000', gencnt='00000000000004a2', flags='00000000', flags1='00002800', usscnt='1', rtncnt='0', fltrs='000001', command_line='/usr/libexec/airportd')\n",
      "UDP_Connection(proto='udp4', recvQ='0', sendQ='0', localSocket='*.*', foreignSocket='*.*', rhiwat='786896', shiwat='9216', pid='201', epid='0', state_str='00080', options='00000000', gencnt='0000000000000394', flags='00000000', flags1='00002800', usscnt='1', rtncnt='0', fltrs='000001', command_line='/usr/libexec/airportd')\n",
      "UDP_Connection(proto='udp4', recvQ='0', sendQ='0', localSocket='*.*', foreignSocket='*.*', rhiwat='786896', shiwat='9216', pid='129', epid='0', state_str='00000', options='00000000', gencnt='0000000000000354', flags='00000000', flags1='00000800', usscnt='1', rtncnt='0', fltrs='000001', command_line='/usr/libexec/locationd')\n",
      "UDP_Connection(proto='udp4', recvQ='0', sendQ='0', localSocket='*.*', foreignSocket='*.*', rhiwat='786896', shiwat='9216', pid='290', epid='0', state_str='00080', options='00000000', gencnt='00000000000002f6', flags='00000000', flags1='00000800', usscnt='1', rtncnt='0', fltrs='000001', command_line='/usr/libexec/wifip2pd')\n",
      "UDP_Connection(proto='udp4', recvQ='0', sendQ='0', localSocket='*.*', foreignSocket='*.*', rhiwat='786896', shiwat='9216', pid='201', epid='0', state_str='00080', options='00000000', gencnt='00000000000002f2', flags='00000000', flags1='00000800', usscnt='1', rtncnt='0', fltrs='000001', command_line='/usr/libexec/airportd')\n",
      "UDP_Connection(proto='udp4', recvQ='0', sendQ='0', localSocket='*.*', foreignSocket='*.*', rhiwat='786896', shiwat='9216', pid='201', epid='0', state_str='00080', options='00000000', gencnt='00000000000002ef', flags='00000000', flags1='00000800', usscnt='1', rtncnt='0', fltrs='000001', command_line='/usr/libexec/airportd')\n",
      "UDP_Connection(proto='udp4', recvQ='0', sendQ='0', localSocket='*.*', foreignSocket='*.*', rhiwat='786896', shiwat='9216', pid='290', epid='0', state_str='00080', options='00000000', gencnt='00000000000002ee', flags='00000000', flags1='00000800', usscnt='1', rtncnt='0', fltrs='000001', command_line='/usr/libexec/wifip2pd')\n",
      "UDP_Connection(proto='udp4', recvQ='0', sendQ='0', localSocket='*.*', foreignSocket='*.*', rhiwat='786896', shiwat='9216', pid='290', epid='0', state_str='00080', options='00000000', gencnt='00000000000002ec', flags='00000000', flags1='00000800', usscnt='1', rtncnt='0', fltrs='000001', command_line='/usr/libexec/wifip2pd')\n",
      "UDP_Connection(proto='udp4', recvQ='0', sendQ='0', localSocket='*.*', foreignSocket='*.*', rhiwat='786896', shiwat='9216', pid='201', epid='0', state_str='00080', options='00000000', gencnt='00000000000002e6', flags='00000000', flags1='00000800', usscnt='1', rtncnt='0', fltrs='000001', command_line='/usr/libexec/airportd')\n",
      "UDP_Connection(proto='udp4', recvQ='0', sendQ='0', localSocket='*.*', foreignSocket='*.*', rhiwat='786896', shiwat='9216', pid='201', epid='0', state_str='00080', options='00000000', gencnt='00000000000002db', flags='00000000', flags1='00000800', usscnt='1', rtncnt='0', fltrs='000001', command_line='/usr/libexec/airportd')\n",
      "UDP_Connection(proto='udp4', recvQ='0', sendQ='0', localSocket='*.*', foreignSocket='*.*', rhiwat='786896', shiwat='9216', pid='201', epid='0', state_str='00080', options='00000000', gencnt='00000000000002cc', flags='00000000', flags1='00000800', usscnt='1', rtncnt='0', fltrs='000001', command_line='/usr/libexec/airportd')\n",
      "UDP_Connection(proto='udp4', recvQ='0', sendQ='0', localSocket='*.*', foreignSocket='*.*', rhiwat='786896', shiwat='9216', pid='201', epid='0', state_str='00080', options='00000000', gencnt='00000000000002c3', flags='00000000', flags1='00000800', usscnt='1', rtncnt='0', fltrs='000001', command_line='/usr/libexec/airportd')\n",
      "UDP_Connection(proto='udp46', recvQ='0', sendQ='0', localSocket='*.*', foreignSocket='*.*', rhiwat='786896', shiwat='9216', pid='201', epid='0', state_str='00080', options='00000000', gencnt='00000000000002bf', flags='00000000', flags1='00000800', usscnt='1', rtncnt='0', fltrs='000001', command_line='/usr/libexec/airportd')\n",
      "UDP_Connection(proto='udp4', recvQ='0', sendQ='0', localSocket='*.*', foreignSocket='*.*', rhiwat='786896', shiwat='9216', pid='201', epid='0', state_str='00080', options='00000000', gencnt='00000000000002b7', flags='00000000', flags1='00000800', usscnt='1', rtncnt='0', fltrs='000001', command_line='/usr/libexec/airportd')\n",
      "UDP_Connection(proto='udp4', recvQ='0', sendQ='0', localSocket='*.*', foreignSocket='*.*', rhiwat='786896', shiwat='9216', pid='201', epid='0', state_str='00080', options='00000000', gencnt='00000000000002b6', flags='00000000', flags1='00000800', usscnt='1', rtncnt='0', fltrs='000001', command_line='/usr/libexec/airportd')\n",
      "UDP_Connection(proto='udp4', recvQ='0', sendQ='0', localSocket='*.*', foreignSocket='*.*', rhiwat='786896', shiwat='9216', pid='93', epid='0', state_str='00080', options='00000000', gencnt='0000000000000287', flags='00000000', flags1='00000800', usscnt='1', rtncnt='0', fltrs='000000', command_line='/usr/libexec/configd')\n",
      "UDP_Connection(proto='udp4', recvQ='0', sendQ='0', localSocket='*.*', foreignSocket='*.*', rhiwat='786896', shiwat='9216', pid='93', epid='0', state_str='00080', options='00000000', gencnt='0000000000000284', flags='00000000', flags1='00000800', usscnt='1', rtncnt='0', fltrs='000000', command_line='/usr/libexec/configd')\n",
      "UDP_Connection(proto='udp4', recvQ='0', sendQ='0', localSocket='*.*', foreignSocket='*.*', rhiwat='786896', shiwat='9216', pid='93', epid='0', state_str='00080', options='00000000', gencnt='0000000000000279', flags='00000000', flags1='00000800', usscnt='1', rtncnt='0', fltrs='000000', command_line='/usr/libexec/configd')\n",
      "UDP_Connection(proto='udp6', recvQ='0', sendQ='0', localSocket='*.5353', foreignSocket='*.*', rhiwat='786896', shiwat='9216', pid='228', epid='0', state_str='00100', options='00010200', gencnt='0000000000000106', flags='00000000', flags1='00000800', usscnt='1', rtncnt='0', fltrs='000003', command_line='/usr/sbin/mDNSResponder')\n",
      "UDP_Connection(proto='udp4', recvQ='0', sendQ='0', localSocket='*.5353', foreignSocket='*.*', rhiwat='786896', shiwat='9216', pid='228', epid='0', state_str='00100', options='00010200', gencnt='0000000000000105', flags='00000000', flags1='00000800', usscnt='1', rtncnt='0', fltrs='000003', command_line='/usr/sbin/mDNSResponder')\n",
      "UDP_Connection(proto='udp4', recvQ='0', sendQ='0', localSocket='*.137', foreignSocket='*.*', rhiwat='786896', shiwat='9216', pid='1024', epid='0', state_str='00080', options='00000024', gencnt='000000000000001f', flags='00000003', flags1='00002800', usscnt='1', rtncnt='0', fltrs='000003', command_line='/usr/sbin/netbiosd')\n",
      "UDP_Connection(proto='udp4', recvQ='0', sendQ='0', localSocket='*.138', foreignSocket='*.*', rhiwat='786896', shiwat='9216', pid='1024', epid='0', state_str='00080', options='00000024', gencnt='000000000000001e', flags='00000003', flags1='00002800', usscnt='1', rtncnt='0', fltrs='000001', command_line='/usr/sbin/netbiosd')\n"
     ]
    }
   ],
   "source": [
    "for conn in udp_connections:\n",
    "    if not conn.localSocket.startswith('[*]'):\n",
    "        print(conn)"
   ]
  },
  {
   "cell_type": "code",
   "execution_count": null,
   "metadata": {},
   "outputs": [],
   "source": [
    "def sort_connections(connections):\n",
    "    key_function = lambda conn: (conn.proto, conn.localAddress, conn.foreignAddress)\n",
    "    return sorted(connections, key=key_function)\n"
   ]
  },
  {
   "cell_type": "code",
   "execution_count": null,
   "metadata": {},
   "outputs": [],
   "source": [
    "sort_connections(tcp_connections)"
   ]
  },
  {
   "cell_type": "code",
   "execution_count": null,
   "metadata": {},
   "outputs": [],
   "source": [
    "sort_connections(udp_connections)"
   ]
  },
  {
   "cell_type": "code",
   "execution_count": null,
   "metadata": {},
   "outputs": [],
   "source": []
  }
 ],
 "metadata": {
  "kernelspec": {
   "display_name": "Python 3",
   "language": "python",
   "name": "python3"
  },
  "language_info": {
   "codemirror_mode": {
    "name": "ipython",
    "version": 3
   },
   "file_extension": ".py",
   "mimetype": "text/x-python",
   "name": "python",
   "nbconvert_exporter": "python",
   "pygments_lexer": "ipython3",
   "version": "3.11.6"
  }
 },
 "nbformat": 4,
 "nbformat_minor": 2
}
