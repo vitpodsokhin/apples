{
 "cells": [
  {
   "cell_type": "code",
   "execution_count": 1,
   "metadata": {},
   "outputs": [
    {
     "name": "stdout",
     "output_type": "stream",
     "text": [
      "list index out of range\n",
      "list index out of range\n",
      "list index out of range\n",
      "list index out of range\n",
      "list index out of range\n",
      "list index out of range\n"
     ]
    }
   ],
   "source": [
    "import subprocess\n",
    "from connection import TCP_Connection, UDP_Connection\n",
    "\n",
    "def run_netstat(proto: str = None):\n",
    "    command = f\"netstat -nlv {'-p' + proto if proto else ''}\"\n",
    "\n",
    "    connection_classes = {'tcp': TCP_Connection, 'udp': UDP_Connection}\n",
    "    \n",
    "    if proto in connection_classes:\n",
    "        connection_class = connection_classes[proto]\n",
    "        connections = [\n",
    "            connection_class(*connection.split())\n",
    "            for connection in\n",
    "            subprocess.run(command, shell=True, capture_output=True, encoding='utf8', text=True).stdout.splitlines()\n",
    "            if connection.startswith(proto)\n",
    "        ]\n",
    "        return connections\n",
    "    else:\n",
    "        return []\n",
    "\n",
    "tcp_connections = run_netstat('tcp')\n",
    "udp_connections = run_netstat('udp')\n"
   ]
  },
  {
   "cell_type": "code",
   "execution_count": 3,
   "metadata": {},
   "outputs": [
    {
     "data": {
      "text/plain": [
       "[UDP_Connection(proto='udp4', recvQ='0', sendQ='0', localSocket='172.20.10.10.57789', foreignSocket='142.251.1.132.443', rhiwat='1048576', shiwat='29040', pid='3020', epid='0', state_str='00102', options='00000000', gencnt='000000000003e4f7', flags='00000001', flags1='00200800', usscnt='1', rtncnt='0', fltrs='000003', command_line='/Applications/Microsoft Edge.app/Contents/Frameworks/Microsoft Edge Framework.framework/Versions/120.0.2210.89/Helpers/Microsoft Edge Helper.app/Contents/MacOS/Microsoft Edge Helper --type=utility --utility-sub-type=network.mojom.NetworkService --lang=en-GB --service-sandbox-type=network --shared-files --field-trial-handle=1718379636,r,16684955755436625097,3550280745990566995,262144 --disable-features=AllowAllSitesToInitiateMirroring,CastAllowAllIPs --variations-seed-version --seatbelt-client=25'),\n",
       " UDP_Connection(proto='udp4', recvQ='0', sendQ='0', localSocket='172.20.10.10.50653', foreignSocket='74.125.131.138.443', rhiwat='1048576', shiwat='29040', pid='3020', epid='0', state_str='00102', options='00000000', gencnt='000000000003c39e', flags='00000001', flags1='00200800', usscnt='1', rtncnt='0', fltrs='000003', command_line='/Applications/Microsoft Edge.app/Contents/Frameworks/Microsoft Edge Framework.framework/Versions/120.0.2210.89/Helpers/Microsoft Edge Helper.app/Contents/MacOS/Microsoft Edge Helper --type=utility --utility-sub-type=network.mojom.NetworkService --lang=en-GB --service-sandbox-type=network --shared-files --field-trial-handle=1718379636,r,16684955755436625097,3550280745990566995,262144 --disable-features=AllowAllSitesToInitiateMirroring,CastAllowAllIPs --variations-seed-version --seatbelt-client=25'),\n",
       " UDP_Connection(proto='udp4', recvQ='0', sendQ='0', localSocket='172.20.10.10.61540', foreignSocket='74.125.131.138.443', rhiwat='1048576', shiwat='29040', pid='3020', epid='0', state_str='00102', options='00000000', gencnt='000000000003c055', flags='00000001', flags1='00200800', usscnt='1', rtncnt='0', fltrs='000003', command_line='/Applications/Microsoft Edge.app/Contents/Frameworks/Microsoft Edge Framework.framework/Versions/120.0.2210.89/Helpers/Microsoft Edge Helper.app/Contents/MacOS/Microsoft Edge Helper --type=utility --utility-sub-type=network.mojom.NetworkService --lang=en-GB --service-sandbox-type=network --shared-files --field-trial-handle=1718379636,r,16684955755436625097,3550280745990566995,262144 --disable-features=AllowAllSitesToInitiateMirroring,CastAllowAllIPs --variations-seed-version --seatbelt-client=25'),\n",
       " UDP_Connection(proto='udp4', recvQ='0', sendQ='0', localSocket='172.20.10.10.55527', foreignSocket='74.125.131.138.443', rhiwat='1048576', shiwat='29040', pid='3020', epid='0', state_str='00102', options='00000000', gencnt='000000000003bcf8', flags='00000001', flags1='00200800', usscnt='1', rtncnt='0', fltrs='000003', command_line='/Applications/Microsoft Edge.app/Contents/Frameworks/Microsoft Edge Framework.framework/Versions/120.0.2210.89/Helpers/Microsoft Edge Helper.app/Contents/MacOS/Microsoft Edge Helper --type=utility --utility-sub-type=network.mojom.NetworkService --lang=en-GB --service-sandbox-type=network --shared-files --field-trial-handle=1718379636,r,16684955755436625097,3550280745990566995,262144 --disable-features=AllowAllSitesToInitiateMirroring,CastAllowAllIPs --variations-seed-version --seatbelt-client=25'),\n",
       " UDP_Connection(proto='udp4', recvQ='0', sendQ='0', localSocket='172.20.10.10.54430', foreignSocket='64.233.165.198.443', rhiwat='1048576', shiwat='29040', pid='3020', epid='0', state_str='00102', options='00000000', gencnt='000000000003a0e6', flags='00000001', flags1='00200800', usscnt='1', rtncnt='0', fltrs='000003', command_line='/Applications/Microsoft Edge.app/Contents/Frameworks/Microsoft Edge Framework.framework/Versions/120.0.2210.89/Helpers/Microsoft Edge Helper.app/Contents/MacOS/Microsoft Edge Helper --type=utility --utility-sub-type=network.mojom.NetworkService --lang=en-GB --service-sandbox-type=network --shared-files --field-trial-handle=1718379636,r,16684955755436625097,3550280745990566995,262144 --disable-features=AllowAllSitesToInitiateMirroring,CastAllowAllIPs --variations-seed-version --seatbelt-client=25'),\n",
       " UDP_Connection(proto='udp4', recvQ='0', sendQ='0', localSocket='172.20.10.10.65335', foreignSocket='173.194.182.234.443', rhiwat='1048576', shiwat='29040', pid='3020', epid='0', state_str='00102', options='00000000', gencnt='0000000000039ac0', flags='00000001', flags1='00200800', usscnt='1', rtncnt='0', fltrs='000003', command_line='/Applications/Microsoft Edge.app/Contents/Frameworks/Microsoft Edge Framework.framework/Versions/120.0.2210.89/Helpers/Microsoft Edge Helper.app/Contents/MacOS/Microsoft Edge Helper --type=utility --utility-sub-type=network.mojom.NetworkService --lang=en-GB --service-sandbox-type=network --shared-files --field-trial-handle=1718379636,r,16684955755436625097,3550280745990566995,262144 --disable-features=AllowAllSitesToInitiateMirroring,CastAllowAllIPs --variations-seed-version --seatbelt-client=25'),\n",
       " UDP_Connection(proto='udp4', recvQ='0', sendQ='0', localSocket='*.50183', foreignSocket='*.*', rhiwat='786896', shiwat='9216', pid='117', epid='0', state_str='00180', options='00000000', gencnt='00000000000386d3', flags='00000000', flags1='00000800', usscnt='1', rtncnt='0', fltrs='000003', command_line='/usr/sbin/syslogd'),\n",
       " UDP_Connection(proto='udp4', recvQ='0', sendQ='0', localSocket='172.20.10.10.50425', foreignSocket='173.194.182.234.443', rhiwat='1048576', shiwat='29040', pid='3020', epid='0', state_str='00102', options='00000000', gencnt='0000000000038099', flags='00000001', flags1='00200800', usscnt='1', rtncnt='0', fltrs='000003', command_line='/Applications/Microsoft Edge.app/Contents/Frameworks/Microsoft Edge Framework.framework/Versions/120.0.2210.89/Helpers/Microsoft Edge Helper.app/Contents/MacOS/Microsoft Edge Helper --type=utility --utility-sub-type=network.mojom.NetworkService --lang=en-GB --service-sandbox-type=network --shared-files --field-trial-handle=1718379636,r,16684955755436625097,3550280745990566995,262144 --disable-features=AllowAllSitesToInitiateMirroring,CastAllowAllIPs --variations-seed-version --seatbelt-client=25'),\n",
       " UDP_Connection(proto='udp4', recvQ='0', sendQ='0', localSocket='172.20.10.10.53508', foreignSocket='173.194.182.234.443', rhiwat='1048576', shiwat='29040', pid='3020', epid='0', state_str='00102', options='00000000', gencnt='00000000000362a7', flags='00000001', flags1='00200800', usscnt='1', rtncnt='0', fltrs='000003', command_line='/Applications/Microsoft Edge.app/Contents/Frameworks/Microsoft Edge Framework.framework/Versions/120.0.2210.89/Helpers/Microsoft Edge Helper.app/Contents/MacOS/Microsoft Edge Helper --type=utility --utility-sub-type=network.mojom.NetworkService --lang=en-GB --service-sandbox-type=network --shared-files --field-trial-handle=1718379636,r,16684955755436625097,3550280745990566995,262144 --disable-features=AllowAllSitesToInitiateMirroring,CastAllowAllIPs --variations-seed-version --seatbelt-client=25'),\n",
       " UDP_Connection(proto='udp4', recvQ='0', sendQ='0', localSocket='172.20.10.10.51255', foreignSocket='173.194.182.234.443', rhiwat='1048576', shiwat='29040', pid='3020', epid='0', state_str='00102', options='00000000', gencnt='0000000000034bad', flags='00000001', flags1='00200800', usscnt='1', rtncnt='0', fltrs='000003', command_line='/Applications/Microsoft Edge.app/Contents/Frameworks/Microsoft Edge Framework.framework/Versions/120.0.2210.89/Helpers/Microsoft Edge Helper.app/Contents/MacOS/Microsoft Edge Helper --type=utility --utility-sub-type=network.mojom.NetworkService --lang=en-GB --service-sandbox-type=network --shared-files --field-trial-handle=1718379636,r,16684955755436625097,3550280745990566995,262144 --disable-features=AllowAllSitesToInitiateMirroring,CastAllowAllIPs --variations-seed-version --seatbelt-client=25'),\n",
       " UDP_Connection(proto='udp4', recvQ='0', sendQ='0', localSocket='172.20.10.10.53268', foreignSocket='173.194.182.234.443', rhiwat='1048576', shiwat='29040', pid='3020', epid='0', state_str='00102', options='00000000', gencnt='000000000003467f', flags='00000001', flags1='00200800', usscnt='1', rtncnt='0', fltrs='000003', command_line='/Applications/Microsoft Edge.app/Contents/Frameworks/Microsoft Edge Framework.framework/Versions/120.0.2210.89/Helpers/Microsoft Edge Helper.app/Contents/MacOS/Microsoft Edge Helper --type=utility --utility-sub-type=network.mojom.NetworkService --lang=en-GB --service-sandbox-type=network --shared-files --field-trial-handle=1718379636,r,16684955755436625097,3550280745990566995,262144 --disable-features=AllowAllSitesToInitiateMirroring,CastAllowAllIPs --variations-seed-version --seatbelt-client=25'),\n",
       " UDP_Connection(proto='udp6', recvQ='0', sendQ='0', localSocket='*.65117', foreignSocket='*.*', rhiwat='786896', shiwat='9216', pid='7988', epid='0', state_str='00100', options='00000020', gencnt='000000000003007f', flags='00000000', flags1='00000800', usscnt='1', rtncnt='0', fltrs='000001', command_line='/Applications/WireGuard.app/Contents/PlugIns/WireGuardNetworkExtension.appex/Contents/MacOS/WireGuardNetworkExtension -AppleLanguages (\"en-RU\", \"ru-RU\", \"el-RU\")'),\n",
       " UDP_Connection(proto='udp4', recvQ='0', sendQ='0', localSocket='*.65117', foreignSocket='*.*', rhiwat='786896', shiwat='9216', pid='7988', epid='0', state_str='00100', options='00000020', gencnt='000000000003007e', flags='00000000', flags1='00000800', usscnt='1', rtncnt='0', fltrs='000003', command_line='/Applications/WireGuard.app/Contents/PlugIns/WireGuardNetworkExtension.appex/Contents/MacOS/WireGuardNetworkExtension -AppleLanguages (\"en-RU\", \"ru-RU\", \"el-RU\")'),\n",
       " UDP_Connection(proto='udp4', recvQ='0', sendQ='0', localSocket='*.*', foreignSocket='*.*', rhiwat='786896', shiwat='9216', pid='2326', epid='0', state_str='00080', options='00000000', gencnt='000000000002ff8c', flags='00000000', flags1='00000800', usscnt='1', rtncnt='0', fltrs='000001', command_line='/usr/libexec/nesessionmanager'),\n",
       " UDP_Connection(proto='udp4', recvQ='0', sendQ='0', localSocket='*.3722', foreignSocket='*.*', rhiwat='786896', shiwat='9216', pid='478', epid='0', state_str='00100', options='00010200', gencnt='000000000002f7e1', flags='00000001', flags1='00000800', usscnt='1', rtncnt='0', fltrs='000001', command_line='/usr/libexec/rapportd'),\n",
       " UDP_Connection(proto='udp4', recvQ='0', sendQ='0', localSocket='*.*', foreignSocket='*.*', rhiwat='786896', shiwat='9216', pid='3363', epid='0', state_str='00080', options='00000000', gencnt='000000000000baac', flags='00000000', flags1='00002800', usscnt='1', rtncnt='0', fltrs='000001', command_line='/usr/libexec/PerfPowerServices'),\n",
       " UDP_Connection(proto='udp4', recvQ='0', sendQ='0', localSocket='*.*', foreignSocket='*.*', rhiwat='786896', shiwat='9216', pid='3363', epid='0', state_str='00080', options='00000000', gencnt='000000000000baaa', flags='00000000', flags1='00002800', usscnt='1', rtncnt='0', fltrs='000001', command_line='/usr/libexec/PerfPowerServices'),\n",
       " UDP_Connection(proto='udp4', recvQ='0', sendQ='0', localSocket='*.*', foreignSocket='*.*', rhiwat='786896', shiwat='9216', pid='3363', epid='0', state_str='00080', options='00000000', gencnt='000000000000baa9', flags='00000000', flags1='00002800', usscnt='1', rtncnt='0', fltrs='000001', command_line='/usr/libexec/PerfPowerServices'),\n",
       " UDP_Connection(proto='udp4', recvQ='0', sendQ='0', localSocket='*.*', foreignSocket='*.*', rhiwat='786896', shiwat='9216', pid='3363', epid='0', state_str='00080', options='00000000', gencnt='000000000000baa4', flags='00000000', flags1='00002800', usscnt='1', rtncnt='0', fltrs='000001', command_line='/usr/libexec/PerfPowerServices'),\n",
       " UDP_Connection(proto='udp4', recvQ='0', sendQ='0', localSocket='*.*', foreignSocket='*.*', rhiwat='786896', shiwat='9216', pid='3005', epid='0', state_str='00000', options='00000000', gencnt='0000000000009173', flags='00000000', flags1='00002800', usscnt='1', rtncnt='0', fltrs='000001', command_line='/Applications/Microsoft Edge.app/Contents/MacOS/Microsoft Edge'),\n",
       " UDP_Connection(proto='udp4', recvQ='0', sendQ='0', localSocket='*.*', foreignSocket='*.*', rhiwat='786896', shiwat='9216', pid='152', epid='0', state_str='00000', options='00000000', gencnt='0000000000002c45', flags='00000000', flags1='00000800', usscnt='1', rtncnt='0', fltrs='000001', command_line='/System/Library/CoreServices/loginwindow.app/Contents/MacOS/loginwindow console'),\n",
       " UDP_Connection(proto='udp4', recvQ='0', sendQ='0', localSocket='*.*', foreignSocket='*.*', rhiwat='786896', shiwat='9216', pid='383', epid='0', state_str='00080', options='00000000', gencnt='0000000000002544', flags='00000000', flags1='00000800', usscnt='1', rtncnt='0', fltrs='000001', command_line='/usr/libexec/wifianalyticsd'),\n",
       " UDP_Connection(proto='udp4', recvQ='0', sendQ='0', localSocket='*.*', foreignSocket='*.*', rhiwat='786896', shiwat='9216', pid='165', epid='0', state_str='00000', options='00000000', gencnt='0000000000001bf0', flags='00000000', flags1='00002800', usscnt='1', rtncnt='0', fltrs='000001', command_line='/usr/libexec/symptomsd'),\n",
       " UDP_Connection(proto='udp4', recvQ='0', sendQ='0', localSocket='*.*', foreignSocket='*.*', rhiwat='786896', shiwat='9216', pid='1054', epid='0', state_str='00080', options='00000000', gencnt='0000000000001b9a', flags='00000000', flags1='00000800', usscnt='1', rtncnt='0', fltrs='000001', command_line='/usr/libexec/wifivelocityd'),\n",
       " UDP_Connection(proto='udp4', recvQ='0', sendQ='0', localSocket='*.*', foreignSocket='*.*', rhiwat='786896', shiwat='9216', pid='478', epid='0', state_str='00000', options='00000000', gencnt='000000000000114a', flags='00000000', flags1='00000800', usscnt='1', rtncnt='0', fltrs='000001', command_line='/usr/libexec/rapportd'),\n",
       " UDP_Connection(proto='udp4', recvQ='0', sendQ='0', localSocket='*.*', foreignSocket='*.*', rhiwat='786896', shiwat='9216', pid='478', epid='0', state_str='00000', options='00000000', gencnt='0000000000000f4b', flags='00000000', flags1='00000800', usscnt='1', rtncnt='0', fltrs='000001', command_line='/usr/libexec/rapportd'),\n",
       " UDP_Connection(proto='udp4', recvQ='0', sendQ='0', localSocket='*.*', foreignSocket='*.*', rhiwat='786896', shiwat='9216', pid='547', epid='0', state_str='00080', options='00000000', gencnt='0000000000000f0a', flags='00000000', flags1='00000800', usscnt='1', rtncnt='0', fltrs='000001', command_line='/usr/sbin/WirelessRadioManagerd'),\n",
       " UDP_Connection(proto='udp4', recvQ='0', sendQ='0', localSocket='*.*', foreignSocket='*.*', rhiwat='786896', shiwat='9216', pid='547', epid='0', state_str='00080', options='00000000', gencnt='0000000000000f09', flags='00000000', flags1='00000800', usscnt='1', rtncnt='0', fltrs='000001', command_line='/usr/sbin/WirelessRadioManagerd'),\n",
       " UDP_Connection(proto='udp4', recvQ='0', sendQ='0', localSocket='*.*', foreignSocket='*.*', rhiwat='786896', shiwat='9216', pid='545', epid='0', state_str='00000', options='00000000', gencnt='0000000000000e1c', flags='00000000', flags1='00000800', usscnt='1', rtncnt='0', fltrs='000001', command_line='/usr/libexec/sharingd'),\n",
       " UDP_Connection(proto='udp4', recvQ='0', sendQ='0', localSocket='*.*', foreignSocket='*.*', rhiwat='786896', shiwat='9216', pid='545', epid='0', state_str='00000', options='00000000', gencnt='0000000000000e1a', flags='00000000', flags1='00000800', usscnt='1', rtncnt='0', fltrs='000001', command_line='/usr/libexec/sharingd'),\n",
       " UDP_Connection(proto='udp4', recvQ='0', sendQ='0', localSocket='*.*', foreignSocket='*.*', rhiwat='786896', shiwat='9216', pid='545', epid='0', state_str='00000', options='00000000', gencnt='0000000000000d0b', flags='00000000', flags1='00000800', usscnt='1', rtncnt='0', fltrs='000001', command_line='/usr/libexec/sharingd'),\n",
       " UDP_Connection(proto='udp4', recvQ='0', sendQ='0', localSocket='*.*', foreignSocket='*.*', rhiwat='786896', shiwat='9216', pid='545', epid='0', state_str='00000', options='00000000', gencnt='0000000000000cc5', flags='00000000', flags1='00000800', usscnt='1', rtncnt='0', fltrs='000001', command_line='/usr/libexec/sharingd'),\n",
       " UDP_Connection(proto='udp4', recvQ='0', sendQ='0', localSocket='*.*', foreignSocket='*.*', rhiwat='786896', shiwat='9216', pid='545', epid='0', state_str='00000', options='00000000', gencnt='0000000000000cc4', flags='00000000', flags1='00000800', usscnt='1', rtncnt='0', fltrs='000001', command_line='/usr/libexec/sharingd'),\n",
       " UDP_Connection(proto='udp4', recvQ='0', sendQ='0', localSocket='*.*', foreignSocket='*.*', rhiwat='786896', shiwat='9216', pid='545', epid='0', state_str='00000', options='00000000', gencnt='0000000000000cc2', flags='00000000', flags1='00000800', usscnt='1', rtncnt='0', fltrs='000001', command_line='/usr/libexec/sharingd'),\n",
       " UDP_Connection(proto='udp4', recvQ='0', sendQ='0', localSocket='*.*', foreignSocket='*.*', rhiwat='786896', shiwat='9216', pid='545', epid='0', state_str='00000', options='00000000', gencnt='0000000000000cba', flags='00000000', flags1='00000800', usscnt='1', rtncnt='0', fltrs='000001', command_line='/usr/libexec/sharingd'),\n",
       " UDP_Connection(proto='udp4', recvQ='0', sendQ='0', localSocket='*.*', foreignSocket='*.*', rhiwat='786896', shiwat='9216', pid='478', epid='0', state_str='00000', options='00000000', gencnt='0000000000000c67', flags='00000000', flags1='00000800', usscnt='1', rtncnt='0', fltrs='000001', command_line='/usr/libexec/rapportd'),\n",
       " UDP_Connection(proto='udp4', recvQ='0', sendQ='0', localSocket='*.*', foreignSocket='*.*', rhiwat='786896', shiwat='9216', pid='478', epid='0', state_str='00000', options='00000000', gencnt='0000000000000c60', flags='00000000', flags1='00000800', usscnt='1', rtncnt='0', fltrs='000001', command_line='/usr/libexec/rapportd'),\n",
       " UDP_Connection(proto='udp4', recvQ='0', sendQ='0', localSocket='*.*', foreignSocket='*.*', rhiwat='786896', shiwat='9216', pid='463', epid='0', state_str='00000', options='00000000', gencnt='0000000000000bfd', flags='00000000', flags1='00000800', usscnt='1', rtncnt='0', fltrs='000001', command_line='/System/Library/CoreServices/ControlCenter.app/Contents/MacOS/ControlCenter'),\n",
       " UDP_Connection(proto='udp4', recvQ='0', sendQ='0', localSocket='*.*', foreignSocket='*.*', rhiwat='786896', shiwat='9216', pid='500', epid='0', state_str='00000', options='00000000', gencnt='0000000000000ab0', flags='00000000', flags1='00000800', usscnt='1', rtncnt='0', fltrs='000001', command_line='/System/Library/CoreServices/WiFiAgent.app/Contents/MacOS/WiFiAgent'),\n",
       " UDP_Connection(proto='udp4', recvQ='0', sendQ='0', localSocket='*.*', foreignSocket='*.*', rhiwat='786896', shiwat='9216', pid='525', epid='0', state_str='00000', options='00000000', gencnt='00000000000009f2', flags='00000000', flags1='00000800', usscnt='1', rtncnt='0', fltrs='000001', command_line='/System/Library/PrivateFrameworks/IDS.framework/identityservicesd.app/Contents/MacOS/identityservicesd'),\n",
       " UDP_Connection(proto='udp4', recvQ='0', sendQ='0', localSocket='*.*', foreignSocket='*.*', rhiwat='786896', shiwat='9216', pid='525', epid='0', state_str='00000', options='00000000', gencnt='00000000000009e6', flags='00000000', flags1='00000800', usscnt='1', rtncnt='0', fltrs='000001', command_line='/System/Library/PrivateFrameworks/IDS.framework/identityservicesd.app/Contents/MacOS/identityservicesd'),\n",
       " UDP_Connection(proto='udp4', recvQ='0', sendQ='0', localSocket='*.*', foreignSocket='*.*', rhiwat='786896', shiwat='9216', pid='547', epid='0', state_str='00080', options='00000000', gencnt='000000000000098d', flags='00000000', flags1='00000800', usscnt='1', rtncnt='0', fltrs='000001', command_line='/usr/sbin/WirelessRadioManagerd'),\n",
       " UDP_Connection(proto='udp4', recvQ='0', sendQ='0', localSocket='*.*', foreignSocket='*.*', rhiwat='786896', shiwat='9216', pid='143', epid='0', state_str='00080', options='00000000', gencnt='000000000000081d', flags='00000000', flags1='00000800', usscnt='1', rtncnt='0', fltrs='000001', command_line='/usr/sbin/bluetoothd'),\n",
       " UDP_Connection(proto='udp4', recvQ='0', sendQ='0', localSocket='*.*', foreignSocket='*.*', rhiwat='786896', shiwat='9216', pid='91', epid='0', state_str='00080', options='00000000', gencnt='000000000000066c', flags='00000000', flags1='00002800', usscnt='1', rtncnt='0', fltrs='000001', command_line='/usr/sbin/systemstats --daemon'),\n",
       " UDP_Connection(proto='udp4', recvQ='0', sendQ='0', localSocket='*.*', foreignSocket='*.*', rhiwat='786896', shiwat='9216', pid='171', epid='0', state_str='00080', options='00000000', gencnt='000000000000044b', flags='00000000', flags1='00000800', usscnt='1', rtncnt='0', fltrs='000001', command_line='/usr/libexec/airportd'),\n",
       " UDP_Connection(proto='udp4', recvQ='0', sendQ='0', localSocket='*.*', foreignSocket='*.*', rhiwat='786896', shiwat='9216', pid='171', epid='0', state_str='00080', options='00000000', gencnt='000000000000044a', flags='00000000', flags1='00000800', usscnt='1', rtncnt='0', fltrs='000001', command_line='/usr/libexec/airportd'),\n",
       " UDP_Connection(proto='udp4', recvQ='0', sendQ='0', localSocket='*.*', foreignSocket='*.*', rhiwat='786896', shiwat='9216', pid='297', epid='0', state_str='00080', options='00000000', gencnt='00000000000003e0', flags='00000000', flags1='00000800', usscnt='1', rtncnt='0', fltrs='000001', command_line='/usr/libexec/wifip2pd'),\n",
       " UDP_Connection(proto='udp4', recvQ='0', sendQ='0', localSocket='*.*', foreignSocket='*.*', rhiwat='786896', shiwat='9216', pid='171', epid='0', state_str='00080', options='00000000', gencnt='00000000000003d9', flags='00000000', flags1='00002800', usscnt='1', rtncnt='0', fltrs='000001', command_line='/usr/libexec/airportd'),\n",
       " UDP_Connection(proto='udp4', recvQ='0', sendQ='0', localSocket='*.*', foreignSocket='*.*', rhiwat='786896', shiwat='9216', pid='297', epid='0', state_str='00080', options='00000000', gencnt='000000000000030b', flags='00000000', flags1='00002800', usscnt='1', rtncnt='0', fltrs='000001', command_line='/usr/libexec/wifip2pd'),\n",
       " UDP_Connection(proto='udp4', recvQ='0', sendQ='0', localSocket='*.*', foreignSocket='*.*', rhiwat='786896', shiwat='9216', pid='297', epid='0', state_str='00080', options='00000000', gencnt='0000000000000309', flags='00000000', flags1='00002800', usscnt='1', rtncnt='0', fltrs='000001', command_line='/usr/libexec/wifip2pd'),\n",
       " UDP_Connection(proto='udp4', recvQ='0', sendQ='0', localSocket='*.*', foreignSocket='*.*', rhiwat='786896', shiwat='9216', pid='143', epid='0', state_str='00080', options='00000000', gencnt='0000000000000304', flags='00000000', flags1='00000800', usscnt='1', rtncnt='0', fltrs='000001', command_line='/usr/sbin/bluetoothd'),\n",
       " UDP_Connection(proto='udp4', recvQ='0', sendQ='0', localSocket='*.*', foreignSocket='*.*', rhiwat='786896', shiwat='9216', pid='171', epid='0', state_str='00080', options='00000000', gencnt='00000000000002fc', flags='00000000', flags1='00000800', usscnt='1', rtncnt='0', fltrs='000001', command_line='/usr/libexec/airportd'),\n",
       " UDP_Connection(proto='udp4', recvQ='0', sendQ='0', localSocket='*.*', foreignSocket='*.*', rhiwat='786896', shiwat='9216', pid='171', epid='0', state_str='00080', options='00000000', gencnt='00000000000002f9', flags='00000000', flags1='00000800', usscnt='1', rtncnt='0', fltrs='000001', command_line='/usr/libexec/airportd'),\n",
       " UDP_Connection(proto='udp4', recvQ='0', sendQ='0', localSocket='*.*', foreignSocket='*.*', rhiwat='786896', shiwat='9216', pid='171', epid='0', state_str='00080', options='00000000', gencnt='00000000000002f5', flags='00000000', flags1='00000800', usscnt='1', rtncnt='0', fltrs='000001', command_line='/usr/libexec/airportd'),\n",
       " UDP_Connection(proto='udp4', recvQ='0', sendQ='0', localSocket='*.*', foreignSocket='*.*', rhiwat='786896', shiwat='9216', pid='171', epid='0', state_str='00080', options='00000000', gencnt='00000000000002ec', flags='00000000', flags1='00000800', usscnt='1', rtncnt='0', fltrs='000001', command_line='/usr/libexec/airportd'),\n",
       " UDP_Connection(proto='udp4', recvQ='0', sendQ='0', localSocket='*.*', foreignSocket='*.*', rhiwat='786896', shiwat='9216', pid='171', epid='0', state_str='00080', options='00000000', gencnt='00000000000002e0', flags='00000000', flags1='00000800', usscnt='1', rtncnt='0', fltrs='000001', command_line='/usr/libexec/airportd'),\n",
       " UDP_Connection(proto='udp4', recvQ='0', sendQ='0', localSocket='*.*', foreignSocket='*.*', rhiwat='786896', shiwat='9216', pid='171', epid='0', state_str='00080', options='00000000', gencnt='00000000000002ce', flags='00000000', flags1='00000800', usscnt='1', rtncnt='0', fltrs='000001', command_line='/usr/libexec/airportd'),\n",
       " UDP_Connection(proto='udp46', recvQ='0', sendQ='0', localSocket='*.*', foreignSocket='*.*', rhiwat='786896', shiwat='9216', pid='171', epid='0', state_str='00080', options='00000000', gencnt='00000000000002ca', flags='00000000', flags1='00000800', usscnt='1', rtncnt='0', fltrs='000001', command_line='/usr/libexec/airportd'),\n",
       " UDP_Connection(proto='udp4', recvQ='0', sendQ='0', localSocket='*.*', foreignSocket='*.*', rhiwat='786896', shiwat='9216', pid='171', epid='0', state_str='00080', options='00000000', gencnt='00000000000002c5', flags='00000000', flags1='00000800', usscnt='1', rtncnt='0', fltrs='000001', command_line='/usr/libexec/airportd'),\n",
       " UDP_Connection(proto='udp4', recvQ='0', sendQ='0', localSocket='*.*', foreignSocket='*.*', rhiwat='786896', shiwat='9216', pid='171', epid='0', state_str='00080', options='00000000', gencnt='00000000000002c3', flags='00000000', flags1='00000800', usscnt='1', rtncnt='0', fltrs='000001', command_line='/usr/libexec/airportd'),\n",
       " UDP_Connection(proto='udp4', recvQ='0', sendQ='0', localSocket='*.*', foreignSocket='*.*', rhiwat='786896', shiwat='9216', pid='129', epid='0', state_str='00000', options='00000000', gencnt='00000000000002b5', flags='00000000', flags1='00000800', usscnt='1', rtncnt='0', fltrs='000001', command_line='/usr/libexec/locationd'),\n",
       " UDP_Connection(proto='udp4', recvQ='0', sendQ='0', localSocket='*.*', foreignSocket='*.*', rhiwat='786896', shiwat='9216', pid='143', epid='0', state_str='00080', options='00000000', gencnt='00000000000002a2', flags='00000000', flags1='00000800', usscnt='1', rtncnt='0', fltrs='000001', command_line='/usr/sbin/bluetoothd'),\n",
       " UDP_Connection(proto='udp4', recvQ='0', sendQ='0', localSocket='*.*', foreignSocket='*.*', rhiwat='786896', shiwat='9216', pid='93', epid='0', state_str='00080', options='00000000', gencnt='0000000000000269', flags='00000000', flags1='00000800', usscnt='1', rtncnt='0', fltrs='000000', command_line='/usr/libexec/configd'),\n",
       " UDP_Connection(proto='udp4', recvQ='0', sendQ='0', localSocket='*.*', foreignSocket='*.*', rhiwat='786896', shiwat='9216', pid='93', epid='0', state_str='00080', options='00000000', gencnt='0000000000000260', flags='00000000', flags1='00000800', usscnt='1', rtncnt='0', fltrs='000000', command_line='/usr/libexec/configd'),\n",
       " UDP_Connection(proto='udp4', recvQ='0', sendQ='0', localSocket='*.*', foreignSocket='*.*', rhiwat='786896', shiwat='9216', pid='93', epid='0', state_str='00080', options='00000000', gencnt='000000000000025c', flags='00000000', flags1='00000800', usscnt='1', rtncnt='0', fltrs='000000', command_line='/usr/libexec/configd'),\n",
       " UDP_Connection(proto='udp6', recvQ='0', sendQ='0', localSocket='*.5353', foreignSocket='*.*', rhiwat='786896', shiwat='9216', pid='205', epid='0', state_str='00100', options='00010200', gencnt='00000000000000d7', flags='00000000', flags1='00000800', usscnt='1', rtncnt='0', fltrs='000003', command_line='/usr/sbin/mDNSResponder'),\n",
       " UDP_Connection(proto='udp4', recvQ='0', sendQ='0', localSocket='*.5353', foreignSocket='*.*', rhiwat='786896', shiwat='9216', pid='205', epid='0', state_str='00100', options='00010200', gencnt='00000000000000d6', flags='00000000', flags1='00000800', usscnt='1', rtncnt='0', fltrs='000003', command_line='/usr/sbin/mDNSResponder'),\n",
       " UDP_Connection(proto='udp4', recvQ='0', sendQ='0', localSocket='*.137', foreignSocket='*.*', rhiwat='786896', shiwat='9216', pid='7839', epid='0', state_str='00080', options='00000024', gencnt='000000000000001f', flags='00000003', flags1='00002800', usscnt='1', rtncnt='0', fltrs='000003', command_line='/usr/sbin/netbiosd'),\n",
       " UDP_Connection(proto='udp4', recvQ='0', sendQ='0', localSocket='*.138', foreignSocket='*.*', rhiwat='786896', shiwat='9216', pid='7839', epid='0', state_str='00080', options='00000024', gencnt='000000000000001e', flags='00000003', flags1='00002800', usscnt='1', rtncnt='0', fltrs='000001', command_line='/usr/sbin/netbiosd')]"
      ]
     },
     "execution_count": 3,
     "metadata": {},
     "output_type": "execute_result"
    }
   ],
   "source": [
    "udp_connections"
   ]
  },
  {
   "cell_type": "code",
   "execution_count": null,
   "metadata": {},
   "outputs": [],
   "source": []
  },
  {
   "cell_type": "code",
   "execution_count": null,
   "metadata": {},
   "outputs": [],
   "source": []
  },
  {
   "cell_type": "code",
   "execution_count": null,
   "metadata": {},
   "outputs": [],
   "source": []
  },
  {
   "cell_type": "code",
   "execution_count": null,
   "metadata": {},
   "outputs": [],
   "source": [
    "for conn in tcp_connections:\n",
    "    if not conn.localSocket.startswith('127.0.0.1'):\n",
    "        print(conn)"
   ]
  },
  {
   "cell_type": "code",
   "execution_count": null,
   "metadata": {},
   "outputs": [],
   "source": [
    "for conn in udp_connections:\n",
    "    if not conn.localSocket.startswith('[*]'):\n",
    "        print(conn)"
   ]
  },
  {
   "cell_type": "code",
   "execution_count": null,
   "metadata": {},
   "outputs": [],
   "source": [
    "def sort_connections(connections):\n",
    "    key_function = lambda conn: (conn.proto, conn.localAddress, conn.foreignAddress)\n",
    "    return sorted(connections, key=key_function)\n"
   ]
  },
  {
   "cell_type": "code",
   "execution_count": null,
   "metadata": {},
   "outputs": [],
   "source": [
    "sort_connections(tcp_connections)"
   ]
  },
  {
   "cell_type": "code",
   "execution_count": null,
   "metadata": {},
   "outputs": [],
   "source": [
    "sort_connections(udp_connections)"
   ]
  },
  {
   "cell_type": "code",
   "execution_count": null,
   "metadata": {},
   "outputs": [],
   "source": []
  }
 ],
 "metadata": {
  "kernelspec": {
   "display_name": "Python 3",
   "language": "python",
   "name": "python3"
  },
  "language_info": {
   "codemirror_mode": {
    "name": "ipython",
    "version": 3
   },
   "file_extension": ".py",
   "mimetype": "text/x-python",
   "name": "python",
   "nbconvert_exporter": "python",
   "pygments_lexer": "ipython3",
   "version": "3.11.6"
  }
 },
 "nbformat": 4,
 "nbformat_minor": 2
}
