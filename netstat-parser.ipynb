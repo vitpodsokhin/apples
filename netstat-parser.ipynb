{
 "cells": [
  {
   "cell_type": "code",
   "execution_count": 1,
   "metadata": {},
   "outputs": [],
   "source": [
    "import subprocess\n",
    "from connection import TCP_Connection, UDP_Connection\n",
    "\n",
    "def run_netstat(proto:str=None) -> str:\n",
    "    command = f\"netstat -nlv {'-p' + proto if proto else ''}\"\n",
    "    netstat_output = subprocess.run(command, shell=True, capture_output=True, encoding='utf8', text=True).stdout\n",
    "    return netstat_output\n",
    "\n",
    "def parse_netstat_output(netstat_output:str=None) -> list[str]:\n",
    "    netstat_output_strings = netstat_output.splitlines()\n",
    "    return netstat_output_strings"
   ]
  },
  {
   "cell_type": "code",
   "execution_count": null,
   "metadata": {},
   "outputs": [],
   "source": [
    "def get_list_of_tcp_headers() -> list[str]:\n",
    "    tcp_column_headers = parse_netstat_output(run_netstat('tcp'))[1].split()\n",
    "    tcp_column_headers[3] = ' '.join(tcp_column_headers[3:5])\n",
    "    tcp_column_headers.pop(4)\n",
    "    tcp_column_headers[4] = ' '.join(tcp_column_headers[4:6])\n",
    "    tcp_column_headers.pop(5)\n",
    "    tcp_column_headers = [''.join(header.split()) for header in tcp_column_headers]\n",
    "    return tcp_column_headers\n",
    "\n"
   ]
  },
  {
   "cell_type": "code",
   "execution_count": null,
   "metadata": {},
   "outputs": [],
   "source": [
    "def get_list_of_udp_headers() -> list[str]:\n",
    "    tcp_column_headers = parse_netstat_output(run_netstat('udp'))[1].split()\n",
    "    tcp_column_headers[3] = ' '.join(tcp_column_headers[3:5])\n",
    "    tcp_column_headers.pop(4)\n",
    "    tcp_column_headers[4] = ' '.join(tcp_column_headers[4:6])\n",
    "    tcp_column_headers.pop(5)\n",
    "    tcp_column_headers.pop(5)\n",
    "    tcp_column_headers = [''.join(header.split()) for header in tcp_column_headers]\n",
    "    return tcp_column_headers\n",
    "\n"
   ]
  },
  {
   "cell_type": "code",
   "execution_count": null,
   "metadata": {},
   "outputs": [],
   "source": [
    "len(get_list_of_udp_headers())"
   ]
  },
  {
   "cell_type": "code",
   "execution_count": null,
   "metadata": {},
   "outputs": [],
   "source": [
    "\n",
    "print(f\"class UDP_Connection:\")\n",
    "for header in get_list_of_udp_headers():\n",
    "    print(f\"    {header}: \")\n"
   ]
  },
  {
   "cell_type": "code",
   "execution_count": null,
   "metadata": {},
   "outputs": [],
   "source": [
    "parse_netstat_output(run_netstat('udp'))[1].split()"
   ]
  },
  {
   "cell_type": "code",
   "execution_count": null,
   "metadata": {},
   "outputs": [],
   "source": []
  },
  {
   "cell_type": "code",
   "execution_count": null,
   "metadata": {},
   "outputs": [],
   "source": []
  },
  {
   "cell_type": "code",
   "execution_count": null,
   "metadata": {},
   "outputs": [],
   "source": []
  },
  {
   "cell_type": "code",
   "execution_count": null,
   "metadata": {},
   "outputs": [],
   "source": [
    "\n",
    "print(f\"class TCP_Connection:\")\n",
    "for header in get_list_of_tcp_headers():\n",
    "    print(f\"    {header}: \")\n"
   ]
  },
  {
   "cell_type": "code",
   "execution_count": null,
   "metadata": {},
   "outputs": [],
   "source": [
    "from dataclasses import dataclass\n",
    "\n",
    "@dataclass\n",
    "class TCP_Connection:\n",
    "    Proto: str\n",
    "    RecvQ: int\n",
    "    SendQ: int\n",
    "    localAddress: str\n",
    "    foreignAddress: str\n",
    "    tcpState: str\n",
    "    rhiwat: int\n",
    "    shiwat: int\n",
    "    pid: int\n",
    "    epid: int\n",
    "    state: str\n",
    "    options: str\n",
    "    gencnt: str\n",
    "    flags: str\n",
    "    flags1: str\n",
    "    usscnt: int\n",
    "    rtncnt: int\n",
    "    fltrs: int"
   ]
  },
  {
   "cell_type": "code",
   "execution_count": null,
   "metadata": {},
   "outputs": [],
   "source": [
    "tcp_column_headers"
   ]
  },
  {
   "cell_type": "code",
   "execution_count": null,
   "metadata": {},
   "outputs": [],
   "source": [
    "values = parse_netstat_output(run_netstat('tcp'))[2].split()\n",
    "print(values)"
   ]
  },
  {
   "cell_type": "code",
   "execution_count": null,
   "metadata": {},
   "outputs": [],
   "source": [
    "headers = get_list_of_tcp_headers()\n",
    "parse_netstat_output(run_netstat('tcp')).split()\n",
    "dict(zip(headers, values))"
   ]
  },
  {
   "cell_type": "code",
   "execution_count": null,
   "metadata": {},
   "outputs": [],
   "source": [
    "headers"
   ]
  },
  {
   "cell_type": "code",
   "execution_count": null,
   "metadata": {},
   "outputs": [],
   "source": []
  },
  {
   "cell_type": "code",
   "execution_count": null,
   "metadata": {},
   "outputs": [],
   "source": [
    "\n",
    "netstat_output = run_netstat()\n",
    "print(netstat_output)\n",
    "print(len(netstat_output))"
   ]
  }
 ],
 "metadata": {
  "kernelspec": {
   "display_name": "Python 3",
   "language": "python",
   "name": "python3"
  },
  "language_info": {
   "codemirror_mode": {
    "name": "ipython",
    "version": 3
   },
   "file_extension": ".py",
   "mimetype": "text/x-python",
   "name": "python",
   "nbconvert_exporter": "python",
   "pygments_lexer": "ipython3",
   "version": "3.11.6"
  }
 },
 "nbformat": 4,
 "nbformat_minor": 2
}
